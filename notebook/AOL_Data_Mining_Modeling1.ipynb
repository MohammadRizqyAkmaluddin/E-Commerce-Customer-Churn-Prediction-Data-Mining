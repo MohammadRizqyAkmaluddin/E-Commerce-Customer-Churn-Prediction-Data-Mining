{
  "nbformat": 4,
  "nbformat_minor": 0,
  "metadata": {
    "colab": {
      "provenance": [],
      "collapsed_sections": [
        "5NtpbXfpASdf"
      ]
    },
    "kernelspec": {
      "name": "python3",
      "display_name": "Python 3"
    },
    "language_info": {
      "name": "python"
    }
  },
  "cells": [
    {
      "cell_type": "markdown",
      "source": [
        "# **IMPORT LIBRARIES AND READ FILE**"
      ],
      "metadata": {
        "id": "nXl1oigM2pv8"
      }
    },
    {
      "cell_type": "code",
      "source": [
        "import pandas as pd\n",
        "import numpy as np\n",
        "\n",
        "from sklearn.model_selection import train_test_split\n",
        "from sklearn.preprocessing import StandardScaler\n",
        "from sklearn.pipeline import Pipeline\n",
        "from sklearn.svm import SVC\n",
        "from scipy.stats import randint, uniform\n",
        "from sklearn.model_selection import GridSearchCV, StratifiedKFold\n",
        "from sklearn.metrics import accuracy_score, precision_score, recall_score, f1_score, roc_auc_score, classification_report\n",
        "\n",
        "from sklearn.ensemble import RandomForestClassifier\n",
        "from sklearn.linear_model import LogisticRegression\n",
        "from xgboost import XGBClassifier\n",
        "from lightgbm import LGBMClassifier\n",
        "from sklearn.neighbors import KNeighborsClassifier\n",
        "\n",
        "from imblearn.over_sampling import SMOTE"
      ],
      "metadata": {
        "id": "5wj1wl8H09vC"
      },
      "execution_count": 84,
      "outputs": []
    },
    {
      "cell_type": "code",
      "execution_count": 85,
      "metadata": {
        "colab": {
          "base_uri": "https://localhost:8080/"
        },
        "id": "q4-jqpdLyPWY",
        "outputId": "4f79e8f3-85cd-4d0d-de3c-864d30189f97"
      },
      "outputs": [
        {
          "output_type": "stream",
          "name": "stdout",
          "text": [
            "<class 'pandas.core.frame.DataFrame'>\n",
            "RangeIndex: 5630 entries, 0 to 5629\n",
            "Data columns (total 31 columns):\n",
            " #   Column                                 Non-Null Count  Dtype  \n",
            "---  ------                                 --------------  -----  \n",
            " 0   CustomerID                             5630 non-null   int64  \n",
            " 1   Churn                                  5630 non-null   int64  \n",
            " 2   Tenure                                 5630 non-null   float64\n",
            " 3   CityTier                               5630 non-null   int64  \n",
            " 4   WarehouseToHome                        5630 non-null   float64\n",
            " 5   HourSpendOnApp                         5630 non-null   float64\n",
            " 6   NumberOfDeviceRegistered               5630 non-null   int64  \n",
            " 7   SatisfactionScore                      5630 non-null   int64  \n",
            " 8   NumberOfAddress                        5630 non-null   int64  \n",
            " 9   Complain                               5630 non-null   int64  \n",
            " 10  OrderAmountHikeFromlastYear            5630 non-null   float64\n",
            " 11  CouponUsed                             5630 non-null   float64\n",
            " 12  OrderCount                             5630 non-null   float64\n",
            " 13  DaySinceLastOrder                      5630 non-null   float64\n",
            " 14  CashbackAmount                         5630 non-null   float64\n",
            " 15  PreferredLoginDevice_Mobile Phone      5630 non-null   bool   \n",
            " 16  PreferredLoginDevice_Phone             5630 non-null   bool   \n",
            " 17  PreferredPaymentMode_COD               5630 non-null   bool   \n",
            " 18  PreferredPaymentMode_Cash on Delivery  5630 non-null   bool   \n",
            " 19  PreferredPaymentMode_Credit Card       5630 non-null   bool   \n",
            " 20  PreferredPaymentMode_Debit Card        5630 non-null   bool   \n",
            " 21  PreferredPaymentMode_E wallet          5630 non-null   bool   \n",
            " 22  PreferredPaymentMode_UPI               5630 non-null   bool   \n",
            " 23  Gender_Male                            5630 non-null   bool   \n",
            " 24  PreferedOrderCat_Grocery               5630 non-null   bool   \n",
            " 25  PreferedOrderCat_Laptop & Accessory    5630 non-null   bool   \n",
            " 26  PreferedOrderCat_Mobile                5630 non-null   bool   \n",
            " 27  PreferedOrderCat_Mobile Phone          5630 non-null   bool   \n",
            " 28  PreferedOrderCat_Others                5630 non-null   bool   \n",
            " 29  MaritalStatus_Married                  5630 non-null   bool   \n",
            " 30  MaritalStatus_Single                   5630 non-null   bool   \n",
            "dtypes: bool(16), float64(8), int64(7)\n",
            "memory usage: 747.9 KB\n",
            "CustomerID                               0\n",
            "Churn                                    0\n",
            "Tenure                                   0\n",
            "CityTier                                 0\n",
            "WarehouseToHome                          0\n",
            "HourSpendOnApp                           0\n",
            "NumberOfDeviceRegistered                 0\n",
            "SatisfactionScore                        0\n",
            "NumberOfAddress                          0\n",
            "Complain                                 0\n",
            "OrderAmountHikeFromlastYear              0\n",
            "CouponUsed                               0\n",
            "OrderCount                               0\n",
            "DaySinceLastOrder                        0\n",
            "CashbackAmount                           0\n",
            "PreferredLoginDevice_Mobile Phone        0\n",
            "PreferredLoginDevice_Phone               0\n",
            "PreferredPaymentMode_COD                 0\n",
            "PreferredPaymentMode_Cash on Delivery    0\n",
            "PreferredPaymentMode_Credit Card         0\n",
            "PreferredPaymentMode_Debit Card          0\n",
            "PreferredPaymentMode_E wallet            0\n",
            "PreferredPaymentMode_UPI                 0\n",
            "Gender_Male                              0\n",
            "PreferedOrderCat_Grocery                 0\n",
            "PreferedOrderCat_Laptop & Accessory      0\n",
            "PreferedOrderCat_Mobile                  0\n",
            "PreferedOrderCat_Mobile Phone            0\n",
            "PreferedOrderCat_Others                  0\n",
            "MaritalStatus_Married                    0\n",
            "MaritalStatus_Single                     0\n",
            "dtype: int64\n",
            "Churn\n",
            "0    0.831616\n",
            "1    0.168384\n",
            "Name: proportion, dtype: float64\n"
          ]
        }
      ],
      "source": [
        "url = 'https://raw.githubusercontent.com/Cloudyum/E-Commerce-Customer-Churn-Prediction-Data-Mining/refs/heads/main/output/cleaned_data.csv'\n",
        "\n",
        "df = pd.read_csv('https://raw.githubusercontent.com/Cloudyum/E-Commerce-Customer-Churn-Prediction-Data-Mining/refs/heads/main/output/cleaned_data.csv')\n",
        "\n",
        "df.head()\n",
        "df.info()\n",
        "df.describe()\n",
        "\n",
        "#DOUBLE-CHECK DATA\n",
        "print(df.isna().sum())\n",
        "print(df['Churn'].value_counts(normalize=True))"
      ]
    },
    {
      "cell_type": "markdown",
      "source": [
        "Bisa kita lihat bahwa datanya masih imbalance atau tidak seimbang, karena customer yang tidak churn (dilambangkan oleh '0') memiliki angka yang lebih tinggi yaitu 0.83 daripada customer yang churn (dilambangkan oleh angka '1') yaitu 0.17"
      ],
      "metadata": {
        "id": "FUKPYtdN5TUs"
      }
    },
    {
      "cell_type": "markdown",
      "source": [
        "# **CHOOSING TARGET**"
      ],
      "metadata": {
        "id": "EzSUZvC42GGV"
      }
    },
    {
      "cell_type": "code",
      "source": [
        "target_col = 'Churn'\n",
        "X = df.drop(target_col, axis=1)\n",
        "y = df[target_col]"
      ],
      "metadata": {
        "id": "fCVioTYC1-So"
      },
      "execution_count": 86,
      "outputs": []
    },
    {
      "cell_type": "markdown",
      "source": [
        "# **SPLITTING DATA**"
      ],
      "metadata": {
        "id": "tJc7sTQr2PbD"
      }
    },
    {
      "cell_type": "code",
      "source": [
        "# 70% train, 30% sisa\n",
        "X_train, X_temp, y_train, y_temp = train_test_split(\n",
        "    X, y,\n",
        "    test_size=0.3,\n",
        "    stratify=y,\n",
        "    random_state=42\n",
        ")\n",
        "\n",
        "# 2) Dari 30%, dibagi jadi 15% val + 15% test\n",
        "X_val, X_test, y_val, y_test = train_test_split(\n",
        "    X_temp, y_temp,\n",
        "    test_size=0.5,\n",
        "    stratify=y_temp,\n",
        "    random_state=42\n",
        ")\n",
        "\n",
        "print(f\"Train: {X_train.shape}, Val: {X_val.shape}, Test: {X_test.shape}\")"
      ],
      "metadata": {
        "colab": {
          "base_uri": "https://localhost:8080/"
        },
        "id": "I-Te7CYX2O6m",
        "outputId": "dff7622a-2e48-4573-8789-fe8bffe600e7"
      },
      "execution_count": 87,
      "outputs": [
        {
          "output_type": "stream",
          "name": "stdout",
          "text": [
            "Train: (3941, 30), Val: (844, 30), Test: (845, 30)\n"
          ]
        }
      ]
    },
    {
      "cell_type": "markdown",
      "source": [
        "# **SAMPLING DATA**"
      ],
      "metadata": {
        "id": "BVhBq18h3djv"
      }
    },
    {
      "cell_type": "code",
      "source": [
        "# NOTE: hanya pada training data saja\n",
        "smote = SMOTE(random_state=42)\n",
        "X_train_res, y_train_res = smote.fit_resample(X_train, y_train)\n",
        "\n",
        "print(\"\\nDistribusi setelah SMOTE:\")\n",
        "print(y_train_res.value_counts())"
      ],
      "metadata": {
        "colab": {
          "base_uri": "https://localhost:8080/"
        },
        "id": "0pS2doG93lvF",
        "outputId": "033ac670-0d6e-4ceb-c27f-f7b9421359cb"
      },
      "execution_count": 88,
      "outputs": [
        {
          "output_type": "stream",
          "name": "stdout",
          "text": [
            "\n",
            "Distribusi setelah SMOTE:\n",
            "Churn\n",
            "0    3277\n",
            "1    3277\n",
            "Name: count, dtype: int64\n"
          ]
        }
      ]
    },
    {
      "cell_type": "markdown",
      "source": [
        "# **STANDARIZATION**"
      ],
      "metadata": {
        "id": "YFk3uE8o2fGP"
      }
    },
    {
      "cell_type": "code",
      "source": [
        "rf_model = RandomForestClassifier(random_state=42)\n",
        "\n",
        "logreg_pipeline = Pipeline([\n",
        "    ('scaler', StandardScaler()),\n",
        "    ('model', LogisticRegression(max_iter=5000))\n",
        "])\n",
        "\n",
        "svm_pipeline = Pipeline([\n",
        "    ('scaler', StandardScaler()),\n",
        "    ('model', SVC(kernel='rbf', probability=True, class_weight='balanced'))\n",
        "])\n",
        "\n",
        "xgb_model = XGBClassifier(use_label_encoder=False, eval_metric='logloss', random_state=42)\n",
        "\n",
        "lgbm_model = LGBMClassifier(random_state=42)\n",
        "\n",
        "knn_pipeline = Pipeline([\n",
        "    ('scaler', StandardScaler()),\n",
        "    ('model', KNeighborsClassifier(n_neighbors=5))\n",
        "])"
      ],
      "metadata": {
        "id": "bN960EGF2bPs"
      },
      "execution_count": 89,
      "outputs": []
    },
    {
      "cell_type": "markdown",
      "source": [
        "# **CROSS VALIDATION**"
      ],
      "metadata": {
        "id": "vigN7cDgDUk7"
      }
    },
    {
      "cell_type": "code",
      "source": [
        "param_grids = {\n",
        "    \"Random Forest\": {\n",
        "        \"n_estimators\": [100, 200],\n",
        "        \"max_depth\": [None, 10, 20],\n",
        "        \"min_samples_split\": [2, 5],\n",
        "        \"min_samples_leaf\": [1, 2]\n",
        "    },\n",
        "    \"Logistic Regression\": {\n",
        "        \"model__C\": [0.01, 0.1, 1, 10],\n",
        "        \"model__solver\": [\"lbfgs\", \"liblinear\"]\n",
        "    },\n",
        "    \"SVM\": {\n",
        "        \"model__C\": [0.1, 1, 10],\n",
        "        \"model__gamma\": [\"scale\", \"auto\"]\n",
        "    },\n",
        "    \"XGBoost\": {\n",
        "        \"n_estimators\": [100, 200],\n",
        "        \"max_depth\": [3, 6, 10],\n",
        "        \"learning_rate\": [0.01, 0.1, 0.2]\n",
        "    },\n",
        "    \"LightGBM\": {\n",
        "        \"n_estimators\": [100, 200],\n",
        "        \"max_depth\": [-1, 10, 20],\n",
        "        \"learning_rate\": [0.01, 0.1, 0.2]\n",
        "    },\n",
        "    \"KNN\": {\n",
        "        \"model__n_neighbors\": [3, 5, 7, 9],\n",
        "        \"model__weights\": [\"uniform\", \"distance\"]\n",
        "    }\n",
        "}\n",
        "\n",
        "cv_outer = StratifiedKFold(n_splits=5, shuffle=True, random_state=42)"
      ],
      "metadata": {
        "id": "ioY8sVxeDTnk"
      },
      "execution_count": 90,
      "outputs": []
    },
    {
      "cell_type": "markdown",
      "source": [
        "# **TUNING PARAMETER**"
      ],
      "metadata": {
        "id": "DDbMf0nJGH1O"
      }
    },
    {
      "cell_type": "code",
      "source": [
        "def tune_model_once(model, name, X_train, y_train):\n",
        "    \"\"\"Hyperparameter tuning sekali per model\"\"\"\n",
        "    if name not in param_grids:\n",
        "        print(f\"Tidak ada param_grid untuk {name}, pakai default model.\")\n",
        "        return model\n",
        "\n",
        "    print(f\"\\nTuning {name} ...\")\n",
        "    param_grid = param_grids[name]\n",
        "    cv_inner = StratifiedKFold(n_splits=3, shuffle=True, random_state=42)\n",
        "\n",
        "    grid_search = GridSearchCV(\n",
        "        estimator=model,\n",
        "        param_grid=param_grid,\n",
        "        scoring='f1',\n",
        "        cv=cv_inner,\n",
        "        n_jobs=-1,\n",
        "        verbose=1\n",
        "    )\n",
        "    grid_search.fit(X_train, y_train)\n",
        "    print(f\"Best params for {name}: {grid_search.best_params_}\")\n",
        "    return grid_search.best_estimator_"
      ],
      "metadata": {
        "id": "2L0yZuboGLpk"
      },
      "execution_count": 91,
      "outputs": []
    },
    {
      "cell_type": "markdown",
      "source": [
        "# **MODELING**"
      ],
      "metadata": {
        "id": "i4Ty33nx21ev"
      }
    },
    {
      "cell_type": "code",
      "source": [
        "models = [\n",
        "    (rf_model, \"Random Forest\"),\n",
        "    (logreg_pipeline, \"Logistic Regression\"),\n",
        "    (svm_pipeline, \"SVM\"),\n",
        "    (xgb_model, \"XGBoost\"),\n",
        "    (lgbm_model, \"LightGBM\"),\n",
        "    (knn_pipeline, \"KNN\")\n",
        "]"
      ],
      "metadata": {
        "id": "t2EUL3N6CSKB"
      },
      "execution_count": 92,
      "outputs": []
    },
    {
      "cell_type": "code",
      "source": [
        "def evaluate_model_cv(model, name, X, y):\n",
        "    acc_scores, prec_scores, rec_scores, f1_scores, roc_scores = [], [], [], [], []\n",
        "\n",
        "    for train_idx, test_idx in cv_outer.split(X, y):\n",
        "        X_train_fold, X_test_fold = X.iloc[train_idx], X.iloc[test_idx]\n",
        "        y_train_fold, y_test_fold = y.iloc[train_idx], y.iloc[test_idx]\n",
        "\n",
        "        # fit model hasil tuning\n",
        "        model.fit(X_train_fold, y_train_fold)\n",
        "        y_pred = model.predict(X_test_fold)\n",
        "\n",
        "        # ROC AUC\n",
        "        if hasattr(model, \"predict_proba\"):\n",
        "            y_score = model.predict_proba(X_test_fold)[:, 1]\n",
        "        elif hasattr(model, \"decision_function\"):\n",
        "            y_score = model.decision_function(X_test_fold)\n",
        "        else:\n",
        "            y_score = y_pred\n",
        "\n",
        "        acc_scores.append(accuracy_score(y_test_fold, y_pred))\n",
        "        prec_scores.append(precision_score(y_test_fold, y_pred))\n",
        "        rec_scores.append(recall_score(y_test_fold, y_pred))\n",
        "        f1_scores.append(f1_score(y_test_fold, y_pred))\n",
        "        roc_scores.append(roc_auc_score(y_test_fold, y_score))\n",
        "\n",
        "    metrics = {\n",
        "        \"Model\": name,\n",
        "        \"Accuracy\": np.mean(acc_scores),\n",
        "        \"Precision\": np.mean(prec_scores),\n",
        "        \"Recall\": np.mean(rec_scores),\n",
        "        \"F1 Score\": np.mean(f1_scores),\n",
        "        \"ROC AUC\": np.mean(roc_scores)\n",
        "    }\n",
        "\n",
        "    print(f\"\\n=== {name} (CV 5-Fold) ===\")\n",
        "    for k, v in metrics.items():\n",
        "        if k != \"Model\":\n",
        "            print(f\"{k}: {v:.4f}\")\n",
        "\n",
        "    return metrics"
      ],
      "metadata": {
        "id": "LoHXpGj29ujN"
      },
      "execution_count": 93,
      "outputs": []
    },
    {
      "cell_type": "code",
      "source": [
        "tuned_models = []\n",
        "for model, name in models:\n",
        "    best_model = tune_model_once(model, name, X, y)\n",
        "    tuned_models.append((best_model, name))\n",
        "\n",
        "results_cv = []\n",
        "for model, name in tuned_models:\n",
        "    result = evaluate_model_cv(model, name, X, y)\n",
        "    results_cv.append(result)"
      ],
      "metadata": {
        "colab": {
          "base_uri": "https://localhost:8080/"
        },
        "id": "n7LyMM5kARxV",
        "outputId": "29be9694-af3e-4fd7-a149-42fbc23178ae"
      },
      "execution_count": 94,
      "outputs": [
        {
          "output_type": "stream",
          "name": "stdout",
          "text": [
            "\n",
            "Tuning Random Forest ...\n",
            "Fitting 3 folds for each of 24 candidates, totalling 72 fits\n",
            "Best params for Random Forest: {'max_depth': None, 'min_samples_leaf': 1, 'min_samples_split': 2, 'n_estimators': 200}\n",
            "\n",
            "Tuning Logistic Regression ...\n",
            "Fitting 3 folds for each of 8 candidates, totalling 24 fits\n",
            "Best params for Logistic Regression: {'model__C': 1, 'model__solver': 'liblinear'}\n",
            "\n",
            "Tuning SVM ...\n",
            "Fitting 3 folds for each of 6 candidates, totalling 18 fits\n",
            "Best params for SVM: {'model__C': 10, 'model__gamma': 'scale'}\n",
            "\n",
            "Tuning XGBoost ...\n",
            "Fitting 3 folds for each of 18 candidates, totalling 54 fits\n"
          ]
        },
        {
          "output_type": "stream",
          "name": "stderr",
          "text": [
            "/usr/local/lib/python3.12/dist-packages/xgboost/training.py:183: UserWarning: [02:18:57] WARNING: /workspace/src/learner.cc:738: \n",
            "Parameters: { \"use_label_encoder\" } are not used.\n",
            "\n",
            "  bst.update(dtrain, iteration=i, fobj=obj)\n"
          ]
        },
        {
          "output_type": "stream",
          "name": "stdout",
          "text": [
            "Best params for XGBoost: {'learning_rate': 0.2, 'max_depth': 10, 'n_estimators': 100}\n",
            "\n",
            "Tuning LightGBM ...\n",
            "Fitting 3 folds for each of 18 candidates, totalling 54 fits\n",
            "[LightGBM] [Warning] Found whitespace in feature_names, replace with underlines\n",
            "[LightGBM] [Info] Number of positive: 948, number of negative: 4682\n",
            "[LightGBM] [Info] Auto-choosing row-wise multi-threading, the overhead of testing was 0.000463 seconds.\n",
            "You can set `force_row_wise=true` to remove the overhead.\n",
            "And if memory is not enough, you can set `force_col_wise=true`.\n",
            "[LightGBM] [Info] Total Bins 719\n",
            "[LightGBM] [Info] Number of data points in the train set: 5630, number of used features: 30\n",
            "[LightGBM] [Info] [binary:BoostFromScore]: pavg=0.168384 -> initscore=-1.597126\n",
            "[LightGBM] [Info] Start training from score -1.597126\n",
            "Best params for LightGBM: {'learning_rate': 0.2, 'max_depth': -1, 'n_estimators': 200}\n",
            "\n",
            "Tuning KNN ...\n",
            "Fitting 3 folds for each of 8 candidates, totalling 24 fits\n",
            "Best params for KNN: {'model__n_neighbors': 3, 'model__weights': 'distance'}\n",
            "\n",
            "=== Random Forest (CV 5-Fold) ===\n",
            "Accuracy: 0.9575\n",
            "Precision: 0.9500\n",
            "Recall: 0.7902\n",
            "F1 Score: 0.8615\n",
            "ROC AUC: 0.9869\n",
            "\n",
            "=== Logistic Regression (CV 5-Fold) ===\n",
            "Accuracy: 0.8941\n",
            "Precision: 0.7677\n",
            "Recall: 0.5327\n",
            "F1 Score: 0.6287\n",
            "ROC AUC: 0.8905\n",
            "\n",
            "=== SVM (CV 5-Fold) ===\n",
            "Accuracy: 0.9554\n",
            "Precision: 0.8420\n",
            "Recall: 0.9051\n",
            "F1 Score: 0.8719\n",
            "ROC AUC: 0.9789\n"
          ]
        },
        {
          "output_type": "stream",
          "name": "stderr",
          "text": [
            "/usr/local/lib/python3.12/dist-packages/xgboost/training.py:183: UserWarning: [02:19:44] WARNING: /workspace/src/learner.cc:738: \n",
            "Parameters: { \"use_label_encoder\" } are not used.\n",
            "\n",
            "  bst.update(dtrain, iteration=i, fobj=obj)\n",
            "/usr/local/lib/python3.12/dist-packages/xgboost/training.py:183: UserWarning: [02:19:44] WARNING: /workspace/src/learner.cc:738: \n",
            "Parameters: { \"use_label_encoder\" } are not used.\n",
            "\n",
            "  bst.update(dtrain, iteration=i, fobj=obj)\n",
            "/usr/local/lib/python3.12/dist-packages/xgboost/training.py:183: UserWarning: [02:19:44] WARNING: /workspace/src/learner.cc:738: \n",
            "Parameters: { \"use_label_encoder\" } are not used.\n",
            "\n",
            "  bst.update(dtrain, iteration=i, fobj=obj)\n",
            "/usr/local/lib/python3.12/dist-packages/xgboost/training.py:183: UserWarning: [02:19:44] WARNING: /workspace/src/learner.cc:738: \n",
            "Parameters: { \"use_label_encoder\" } are not used.\n",
            "\n",
            "  bst.update(dtrain, iteration=i, fobj=obj)\n",
            "/usr/local/lib/python3.12/dist-packages/xgboost/training.py:183: UserWarning: [02:19:45] WARNING: /workspace/src/learner.cc:738: \n",
            "Parameters: { \"use_label_encoder\" } are not used.\n",
            "\n",
            "  bst.update(dtrain, iteration=i, fobj=obj)\n"
          ]
        },
        {
          "output_type": "stream",
          "name": "stdout",
          "text": [
            "\n",
            "=== XGBoost (CV 5-Fold) ===\n",
            "Accuracy: 0.9730\n",
            "Precision: 0.9474\n",
            "Recall: 0.8893\n",
            "F1 Score: 0.9171\n",
            "ROC AUC: 0.9888\n",
            "[LightGBM] [Warning] Found whitespace in feature_names, replace with underlines\n",
            "[LightGBM] [Info] Number of positive: 758, number of negative: 3746\n",
            "[LightGBM] [Info] Auto-choosing row-wise multi-threading, the overhead of testing was 0.000321 seconds.\n",
            "You can set `force_row_wise=true` to remove the overhead.\n",
            "And if memory is not enough, you can set `force_col_wise=true`.\n",
            "[LightGBM] [Info] Total Bins 717\n",
            "[LightGBM] [Info] Number of data points in the train set: 4504, number of used features: 30\n",
            "[LightGBM] [Info] [binary:BoostFromScore]: pavg=0.168295 -> initscore=-1.597760\n",
            "[LightGBM] [Info] Start training from score -1.597760\n",
            "[LightGBM] [Warning] Found whitespace in feature_names, replace with underlines\n",
            "[LightGBM] [Info] Number of positive: 758, number of negative: 3746\n",
            "[LightGBM] [Info] Auto-choosing row-wise multi-threading, the overhead of testing was 0.000352 seconds.\n",
            "You can set `force_row_wise=true` to remove the overhead.\n",
            "And if memory is not enough, you can set `force_col_wise=true`.\n",
            "[LightGBM] [Info] Total Bins 718\n",
            "[LightGBM] [Info] Number of data points in the train set: 4504, number of used features: 30\n",
            "[LightGBM] [Info] [binary:BoostFromScore]: pavg=0.168295 -> initscore=-1.597760\n",
            "[LightGBM] [Info] Start training from score -1.597760\n",
            "[LightGBM] [Warning] Found whitespace in feature_names, replace with underlines\n",
            "[LightGBM] [Info] Number of positive: 758, number of negative: 3746\n",
            "[LightGBM] [Info] Auto-choosing row-wise multi-threading, the overhead of testing was 0.000351 seconds.\n",
            "You can set `force_row_wise=true` to remove the overhead.\n",
            "And if memory is not enough, you can set `force_col_wise=true`.\n",
            "[LightGBM] [Info] Total Bins 718\n",
            "[LightGBM] [Info] Number of data points in the train set: 4504, number of used features: 30\n",
            "[LightGBM] [Info] [binary:BoostFromScore]: pavg=0.168295 -> initscore=-1.597760\n",
            "[LightGBM] [Info] Start training from score -1.597760\n",
            "[LightGBM] [Warning] Found whitespace in feature_names, replace with underlines\n",
            "[LightGBM] [Info] Number of positive: 759, number of negative: 3745\n",
            "[LightGBM] [Info] Auto-choosing row-wise multi-threading, the overhead of testing was 0.000358 seconds.\n",
            "You can set `force_row_wise=true` to remove the overhead.\n",
            "And if memory is not enough, you can set `force_col_wise=true`.\n",
            "[LightGBM] [Info] Total Bins 718\n",
            "[LightGBM] [Info] Number of data points in the train set: 4504, number of used features: 30\n",
            "[LightGBM] [Info] [binary:BoostFromScore]: pavg=0.168517 -> initscore=-1.596175\n",
            "[LightGBM] [Info] Start training from score -1.596175\n",
            "[LightGBM] [Warning] Found whitespace in feature_names, replace with underlines\n",
            "[LightGBM] [Info] Number of positive: 759, number of negative: 3745\n",
            "[LightGBM] [Info] Auto-choosing row-wise multi-threading, the overhead of testing was 0.000354 seconds.\n",
            "You can set `force_row_wise=true` to remove the overhead.\n",
            "And if memory is not enough, you can set `force_col_wise=true`.\n",
            "[LightGBM] [Info] Total Bins 718\n",
            "[LightGBM] [Info] Number of data points in the train set: 4504, number of used features: 30\n",
            "[LightGBM] [Info] [binary:BoostFromScore]: pavg=0.168517 -> initscore=-1.596175\n",
            "[LightGBM] [Info] Start training from score -1.596175\n",
            "\n",
            "=== LightGBM (CV 5-Fold) ===\n",
            "Accuracy: 0.9778\n",
            "Precision: 0.9569\n",
            "Recall: 0.9093\n",
            "F1 Score: 0.9321\n",
            "ROC AUC: 0.9918\n",
            "\n",
            "=== KNN (CV 5-Fold) ===\n",
            "Accuracy: 0.9394\n",
            "Precision: 0.8671\n",
            "Recall: 0.7585\n",
            "F1 Score: 0.8078\n",
            "ROC AUC: 0.9548\n"
          ]
        }
      ]
    },
    {
      "cell_type": "markdown",
      "source": [
        "# **EVALUATION**"
      ],
      "metadata": {
        "id": "8RieckOUAoqk"
      }
    },
    {
      "cell_type": "code",
      "source": [
        "results_cv_df = pd.DataFrame(results_cv).sort_values(by=\"F1 Score\", ascending=False).reset_index(drop=True)\n",
        "\n",
        "print(\"Hasil Akhir Setelah Hyperparameter Tuning:\")\n",
        "print(results_cv_df)"
      ],
      "metadata": {
        "colab": {
          "base_uri": "https://localhost:8080/"
        },
        "id": "nb50EeF-Amvk",
        "outputId": "40547f56-f2a6-4231-f0c3-b829811843e2"
      },
      "execution_count": 95,
      "outputs": [
        {
          "output_type": "stream",
          "name": "stdout",
          "text": [
            "Hasil Akhir Setelah Hyperparameter Tuning:\n",
            "                 Model  Accuracy  Precision    Recall  F1 Score   ROC AUC\n",
            "0             LightGBM  0.977798   0.956874  0.909284  0.932150  0.991756\n",
            "1              XGBoost  0.973002   0.947366  0.889256  0.917088  0.988793\n",
            "2                  SVM  0.955417   0.841968  0.905107  0.871934  0.978936\n",
            "3        Random Forest  0.957549   0.950003  0.790170  0.861496  0.986856\n",
            "4                  KNN  0.939432   0.867135  0.758485  0.807786  0.954843\n",
            "5  Logistic Regression  0.894139   0.767740  0.532732  0.628729  0.890458\n"
          ]
        }
      ]
    },
    {
      "cell_type": "markdown",
      "source": [
        "# **SAVE FILE**"
      ],
      "metadata": {
        "id": "f-f326RmJzUO"
      }
    },
    {
      "cell_type": "code",
      "source": [
        "import joblib\n",
        "joblib.dump(best_model, \"best_lightgbm.pkl\")"
      ],
      "metadata": {
        "colab": {
          "base_uri": "https://localhost:8080/"
        },
        "id": "_zJvA5Z5JyVv",
        "outputId": "640748e4-2f67-4750-d88e-cf9a5490bf9f"
      },
      "execution_count": 96,
      "outputs": [
        {
          "output_type": "execute_result",
          "data": {
            "text/plain": [
              "['best_lightgbm.pkl']"
            ]
          },
          "metadata": {},
          "execution_count": 96
        }
      ]
    },
    {
      "cell_type": "markdown",
      "source": [
        "# **MODELING OLD**"
      ],
      "metadata": {
        "id": "5NtpbXfpASdf"
      }
    },
    {
      "cell_type": "code",
      "source": [
        "#RANDOM FOREST\n",
        "\n",
        "rf = RandomForestClassifier(random_state=42)\n",
        "rf.fit(X_train, y_train)\n",
        "\n",
        "y_pred_rf = rf.predict(X_test)\n",
        "\n",
        "print(\"Random Forest Accuracy:\", accuracy_score(y_test, y_pred_rf))\n",
        "print(classification_report(y_test, y_pred_rf))\n",
        "sns.heatmap(confusion_matrix(y_test, y_pred_rf), annot=True, fmt='d', cmap='Blues')\n",
        "plt.title('Confusion Matrix - Random Forest')\n",
        "plt.show()"
      ],
      "metadata": {
        "colab": {
          "base_uri": "https://localhost:8080/",
          "height": 634
        },
        "id": "wfrcznpl26I1",
        "outputId": "85027cc3-ebb3-4ea8-9b1a-54f7c2198273"
      },
      "execution_count": 35,
      "outputs": [
        {
          "output_type": "stream",
          "name": "stdout",
          "text": [
            "Random Forest Accuracy: 0.9476021314387212\n",
            "              precision    recall  f1-score   support\n",
            "\n",
            "           0       0.95      0.99      0.97       936\n",
            "           1       0.96      0.72      0.82       190\n",
            "\n",
            "    accuracy                           0.95      1126\n",
            "   macro avg       0.95      0.86      0.90      1126\n",
            "weighted avg       0.95      0.95      0.94      1126\n",
            "\n"
          ]
        },
        {
          "output_type": "display_data",
          "data": {
            "text/plain": [
              "<Figure size 640x480 with 2 Axes>"
            ],
            "image/png": "[encoded data removed]"
          },
          "metadata": {}
        }
      ]
    },
    {
      "cell_type": "code",
      "source": [
        "#LOGISTIC REGRESSION\n",
        "\n",
        "logreg = LogisticRegression(max_iter=500, random_state=42)\n",
        "logreg.fit(X_train_scaled, y_train)\n",
        "\n",
        "y_pred_log = logreg.predict(X_test_scaled)\n",
        "\n",
        "print(\"Logistic Regression Accuracy:\", accuracy_score(y_test, y_pred_log))\n",
        "print(classification_report(y_test, y_pred_log))\n",
        "sns.heatmap(confusion_matrix(y_test, y_pred_log), annot=True, fmt='d', cmap='Greens')\n",
        "plt.title('Confusion Matrix - Logistic Regression')\n",
        "plt.show()"
      ],
      "metadata": {
        "colab": {
          "base_uri": "https://localhost:8080/",
          "height": 634
        },
        "id": "6OeYaLgE3Byl",
        "outputId": "a9cb1ab0-30a0-4d9f-b58d-f200fe715497"
      },
      "execution_count": 36,
      "outputs": [
        {
          "output_type": "stream",
          "name": "stdout",
          "text": [
            "Logistic Regression Accuracy: 0.8969804618117229\n",
            "              precision    recall  f1-score   support\n",
            "\n",
            "           0       0.91      0.97      0.94       936\n",
            "           1       0.78      0.54      0.64       190\n",
            "\n",
            "    accuracy                           0.90      1126\n",
            "   macro avg       0.85      0.75      0.79      1126\n",
            "weighted avg       0.89      0.90      0.89      1126\n",
            "\n"
          ]
        },
        {
          "output_type": "display_data",
          "data": {
            "text/plain": [
              "<Figure size 640x480 with 2 Axes>"
            ],
            "image/png": "[encoded data removed]"
          },
          "metadata": {}
        }
      ]
    },
    {
      "cell_type": "code",
      "source": [
        "# SVM\n",
        "\n",
        "svm_model = SVC(kernel='rbf', random_state=42)\n",
        "svm_model.fit(X_train_scaled, y_train)\n",
        "\n",
        "y_pred_svm = svm_model.predict(X_test_scaled)\n",
        "\n",
        "print(\"SVM Accuracy:\", accuracy_score(y_test, y_pred_svm))\n",
        "print(classification_report(y_test, y_pred_svm))\n",
        "sns.heatmap(confusion_matrix(y_test, y_pred_svm), annot=True, fmt='d', cmap='Oranges')\n",
        "plt.title('Confusion Matrix - SVM')\n",
        "plt.show()"
      ],
      "metadata": {
        "colab": {
          "base_uri": "https://localhost:8080/",
          "height": 634
        },
        "id": "ARiH1Qmq3Gdz",
        "outputId": "40cfa5b8-6d9c-4009-c760-7c1f6f6fd6d7"
      },
      "execution_count": 37,
      "outputs": [
        {
          "output_type": "stream",
          "name": "stdout",
          "text": [
            "SVM Accuracy: 0.9120781527531083\n",
            "              precision    recall  f1-score   support\n",
            "\n",
            "           0       0.92      0.98      0.95       936\n",
            "           1       0.88      0.56      0.68       190\n",
            "\n",
            "    accuracy                           0.91      1126\n",
            "   macro avg       0.90      0.77      0.82      1126\n",
            "weighted avg       0.91      0.91      0.90      1126\n",
            "\n"
          ]
        },
        {
          "output_type": "display_data",
          "data": {
            "text/plain": [
              "<Figure size 640x480 with 2 Axes>"
            ],
            "image/png": "[encoded data removed]"
          },
          "metadata": {}
        }
      ]
    }
  ]
}